{
 "cells": [
  {
   "cell_type": "code",
   "execution_count": 1,
   "id": "639b5c29-e21d-4892-ba16-1ed4500dcfce",
   "metadata": {},
   "outputs": [
    {
     "ename": "RasterioIOError",
     "evalue": "Ensembled_output.tif: No such file or directory",
     "output_type": "error",
     "traceback": [
      "\u001b[1;31m---------------------------------------------------------------------------\u001b[0m",
      "\u001b[1;31mCPLE_OpenFailedError\u001b[0m                      Traceback (most recent call last)",
      "File \u001b[1;32mrasterio\\\\_base.pyx:310\u001b[0m, in \u001b[0;36mrasterio._base.DatasetBase.__init__\u001b[1;34m()\u001b[0m\n",
      "File \u001b[1;32mrasterio\\\\_base.pyx:221\u001b[0m, in \u001b[0;36mrasterio._base.open_dataset\u001b[1;34m()\u001b[0m\n",
      "File \u001b[1;32mrasterio\\\\_err.pyx:221\u001b[0m, in \u001b[0;36mrasterio._err.exc_wrap_pointer\u001b[1;34m()\u001b[0m\n",
      "\u001b[1;31mCPLE_OpenFailedError\u001b[0m: Ensembled_output.tif: No such file or directory",
      "\nDuring handling of the above exception, another exception occurred:\n",
      "\u001b[1;31mRasterioIOError\u001b[0m                           Traceback (most recent call last)",
      "Cell \u001b[1;32mIn[1], line 39\u001b[0m\n\u001b[0;32m     37\u001b[0m \u001b[38;5;66;03m# Load the classified image\u001b[39;00m\n\u001b[0;32m     38\u001b[0m classified_image_path \u001b[38;5;241m=\u001b[39m \u001b[38;5;124m'\u001b[39m\u001b[38;5;124mEnsembled_output.tif\u001b[39m\u001b[38;5;124m'\u001b[39m  \u001b[38;5;66;03m# Adjust with your classified image path\u001b[39;00m\n\u001b[1;32m---> 39\u001b[0m \u001b[38;5;28;01mwith\u001b[39;00m rasterio\u001b[38;5;241m.\u001b[39mopen(classified_image_path) \u001b[38;5;28;01mas\u001b[39;00m src:\n\u001b[0;32m     40\u001b[0m     classified_image \u001b[38;5;241m=\u001b[39m src\u001b[38;5;241m.\u001b[39mread(\u001b[38;5;241m1\u001b[39m)  \u001b[38;5;66;03m# Assuming single-band TIF\u001b[39;00m\n\u001b[0;32m     41\u001b[0m     transform \u001b[38;5;241m=\u001b[39m src\u001b[38;5;241m.\u001b[39mtransform\n",
      "File \u001b[1;32m~\\anaconda3\\Lib\\site-packages\\rasterio\\env.py:451\u001b[0m, in \u001b[0;36mensure_env_with_credentials.<locals>.wrapper\u001b[1;34m(*args, **kwds)\u001b[0m\n\u001b[0;32m    448\u001b[0m     session \u001b[38;5;241m=\u001b[39m DummySession()\n\u001b[0;32m    450\u001b[0m \u001b[38;5;28;01mwith\u001b[39;00m env_ctor(session\u001b[38;5;241m=\u001b[39msession):\n\u001b[1;32m--> 451\u001b[0m     \u001b[38;5;28;01mreturn\u001b[39;00m f(\u001b[38;5;241m*\u001b[39margs, \u001b[38;5;241m*\u001b[39m\u001b[38;5;241m*\u001b[39mkwds)\n",
      "File \u001b[1;32m~\\anaconda3\\Lib\\site-packages\\rasterio\\__init__.py:317\u001b[0m, in \u001b[0;36mopen\u001b[1;34m(fp, mode, driver, width, height, count, crs, transform, dtype, nodata, sharing, **kwargs)\u001b[0m\n\u001b[0;32m    314\u001b[0m path \u001b[38;5;241m=\u001b[39m _parse_path(raw_dataset_path)\n\u001b[0;32m    316\u001b[0m \u001b[38;5;28;01mif\u001b[39;00m mode \u001b[38;5;241m==\u001b[39m \u001b[38;5;124m\"\u001b[39m\u001b[38;5;124mr\u001b[39m\u001b[38;5;124m\"\u001b[39m:\n\u001b[1;32m--> 317\u001b[0m     dataset \u001b[38;5;241m=\u001b[39m DatasetReader(path, driver\u001b[38;5;241m=\u001b[39mdriver, sharing\u001b[38;5;241m=\u001b[39msharing, \u001b[38;5;241m*\u001b[39m\u001b[38;5;241m*\u001b[39mkwargs)\n\u001b[0;32m    318\u001b[0m \u001b[38;5;28;01melif\u001b[39;00m mode \u001b[38;5;241m==\u001b[39m \u001b[38;5;124m\"\u001b[39m\u001b[38;5;124mr+\u001b[39m\u001b[38;5;124m\"\u001b[39m:\n\u001b[0;32m    319\u001b[0m     dataset \u001b[38;5;241m=\u001b[39m get_writer_for_path(path, driver\u001b[38;5;241m=\u001b[39mdriver)(\n\u001b[0;32m    320\u001b[0m         path, mode, driver\u001b[38;5;241m=\u001b[39mdriver, sharing\u001b[38;5;241m=\u001b[39msharing, \u001b[38;5;241m*\u001b[39m\u001b[38;5;241m*\u001b[39mkwargs\n\u001b[0;32m    321\u001b[0m     )\n",
      "File \u001b[1;32mrasterio\\\\_base.pyx:312\u001b[0m, in \u001b[0;36mrasterio._base.DatasetBase.__init__\u001b[1;34m()\u001b[0m\n",
      "\u001b[1;31mRasterioIOError\u001b[0m: Ensembled_output.tif: No such file or directory"
     ]
    }
   ],
   "source": [
    "import rasterio\n",
    "import geopandas as gpd\n",
    "import numpy as np\n",
    "from rasterio.features import rasterize\n",
    "from shapely.geometry import box\n",
    "from sklearn.metrics import confusion_matrix\n",
    "import os\n",
    "\n",
    "def load_shape_files(shape_file_paths):\n",
    "    \"\"\"Load shape files and return a list of GeoDataFrames.\"\"\"\n",
    "    return [gpd.read_file(path) for path in shape_file_paths]\n",
    "\n",
    "def rasterize_shapes(shape_files, out_shape, transform, classes, bounds):\n",
    "    \"\"\"Rasterize the shape files to match the raster image dimensions.\"\"\"\n",
    "    ground_truth_raster = np.zeros(out_shape, dtype=np.int32)\n",
    "    image_box = box(*bounds)  # Create a bounding box of the TIF image\n",
    "\n",
    "    for i, shape_file in enumerate(shape_files):\n",
    "        valid_geometries = shape_file[shape_file.geometry.intersects(image_box)]  # Filter geometries within image bounds\n",
    "        if valid_geometries.empty:\n",
    "            continue\n",
    "\n",
    "        shapes = ((geom, classes[i]) for geom in valid_geometries.geometry)\n",
    "        try:\n",
    "            raster = rasterize(shapes, out_shape=out_shape, transform=transform, fill=0)\n",
    "            ground_truth_raster[raster > 0] = classes[i]\n",
    "        except Exception as e:\n",
    "            print(f\"Error rasterizing shapes for class {classes[i]}: {e}\")\n",
    "\n",
    "    return ground_truth_raster\n",
    "\n",
    "# Example usage to load shape files and rasterize them\n",
    "shape_file_dir = 'data_directory'  # Subdirectory for shape files\n",
    "shape_file_paths = [os.path.join(shape_file_dir, f'class{i}.shp') for i in range(1, 7)]\n",
    "shape_files = load_shape_files(shape_file_paths)\n",
    "\n",
    "# Load the classified image\n",
    "classified_image_path = 'Ensembled_output.tif'  # Adjust with your classified image path\n",
    "with rasterio.open(classified_image_path) as src:\n",
    "    classified_image = src.read(1)  # Assuming single-band TIF\n",
    "    transform = src.transform\n",
    "    out_shape = (src.height, src.width)\n",
    "    bounds = src.bounds\n",
    "\n",
    "# Define the classes corresponding to each shape file\n",
    "classes = [1, 2, 3, 4, 5, 6]\n",
    "\n",
    "# Rasterize the shape files to create the ground truth raster\n",
    "ground_truth_raster = rasterize_shapes(shape_files, out_shape, transform, classes, bounds)\n",
    "\n",
    "# Flatten both the ground truth raster and the classified image to match for comparison\n",
    "ground_truth_labels = ground_truth_raster.flatten()\n",
    "predicted_labels = classified_image.flatten()\n",
    "\n",
    "# Calculate the confusion matrix and accuracy\n",
    "conf_matrix = confusion_matrix(ground_truth_labels, predicted_labels, labels=classes)\n",
    "accuracy = np.diag(conf_matrix).sum() / conf_matrix.sum()\n",
    "\n",
    "# Output the results\n",
    "print(f\"Accuracy: {accuracy * 100:.2f}%\")\n",
    "print(\"Confusion Matrix:\")\n",
    "print(conf_matrix)"
   ]
  },
  {
   "cell_type": "code",
   "execution_count": null,
   "id": "c926f580-870b-4dec-ab1e-a4183e53d3ec",
   "metadata": {},
   "outputs": [],
   "source": []
  }
 ],
 "metadata": {
  "kernelspec": {
   "display_name": "Python 3 (ipykernel)",
   "language": "python",
   "name": "python3"
  },
  "language_info": {
   "codemirror_mode": {
    "name": "ipython",
    "version": 3
   },
   "file_extension": ".py",
   "mimetype": "text/x-python",
   "name": "python",
   "nbconvert_exporter": "python",
   "pygments_lexer": "ipython3",
   "version": "3.11.7"
  }
 },
 "nbformat": 4,
 "nbformat_minor": 5
}
