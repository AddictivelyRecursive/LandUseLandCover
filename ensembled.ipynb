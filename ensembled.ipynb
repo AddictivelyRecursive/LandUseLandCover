{
 "cells": [
  {
   "cell_type": "code",
   "execution_count": null,
   "id": "abc92864-fef4-47bb-bb2e-6b09833a745d",
   "metadata": {},
   "outputs": [],
   "source": [
    "import rasterio\n",
    "import numpy as np\n",
    "from scipy import stats\n",
    "\n",
    "def read_classified_images(file_paths):\n",
    "    images = []\n",
    "    for file_path in file_paths:\n",
    "        with rasterio.open(file_path) as src:\n",
    "            images.append(src.read(1))  # Assuming the classification is in the first band\n",
    "    return np.array(images)\n",
    "\n",
    "def create_majority_class_image(images):\n",
    "    # Calculate the mode along the first axis (across the four images)\n",
    "    mode_result, _ = stats.mode(images, axis=0)\n",
    "    return mode_result.squeeze()  # Remove the extra dimension added by mode calculation\n",
    "\n",
    "def save_classified_image(image, reference_file, output_file):\n",
    "    with rasterio.open(reference_file) as src:\n",
    "        meta = src.meta.copy()\n",
    "        # Ensure the count is 1 since we're writing a single band\n",
    "        meta.update(count=1)\n",
    "        \n",
    "    print(f\"Image shape to be saved: {image.shape}\")\n",
    "    print(f\"Metadata: {meta}\")\n",
    "\n",
    "    with rasterio.open(output_file, 'w', **meta) as dst:\n",
    "        dst.write(image, 1)\n",
    "\n",
    "# Usage example\n",
    "classified_files = [\n",
    "    'sample_output_filtered_classified_image_RF.tif',\n",
    "    'sample_output_filtered_classified_image_SVM.tif',\n",
    "    'sample_output_filtered_classified_image_XGB.tif',\n",
    "    'sample_output_filtered_classified_image_NN.tif'\n",
    "]\n",
    "\n",
    "output_file = 'Ensembled_output.tif'\n",
    "\n",
    "# Read classified images\n",
    "classified_images = read_classified_images(classified_files)\n",
    "print(f\"Shape of classified_images array: {classified_images.shape}\")\n",
    "print(\"Converted to array\")\n",
    "\n",
    "# Create majority class image\n",
    "majority_class_image = create_majority_class_image(classified_images)\n",
    "print(f\"Shape of majority_class_image after mode calculation: {majority_class_image.shape}\")\n",
    "\n",
    "# Ensure majority_class_image has the correct shape for writing\n",
    "# The majority_class_image should already have the correct shape\n",
    "print(f\"Shape of majority_class_image after squeezing: {majority_class_image.shape}\")\n",
    "\n",
    "# Save the final classified image\n",
    "save_classified_image(majority_class_image, classified_files[0], output_file)\n",
    "print(\"Ensemble saved\")"
   ]
  },
  {
   "cell_type": "code",
   "execution_count": null,
   "id": "b1a6ef11-2fae-4850-aca2-a0eb8028854e",
   "metadata": {},
   "outputs": [],
   "source": [
    "def display_image(image_path, title):\n",
    "    \"\"\"Display a raster image.\"\"\"\n",
    "    with rasterio.open(image_path) as src:\n",
    "        image = src.read(1)  # Assuming single-band TIF\n",
    "    plt.figure(figsize=(10, 10))\n",
    "    plt.imshow(image, cmap='viridis')\n",
    "    plt.title(title)\n",
    "    plt.colorbar()\n",
    "    plt.show()\n",
    "\n",
    "display_image(output_file, \"Ensembled Classified Image\")"
   ]
  }
 ],
 "metadata": {
  "kernelspec": {
   "display_name": "Python 3 (ipykernel)",
   "language": "python",
   "name": "python3"
  },
  "language_info": {
   "codemirror_mode": {
    "name": "ipython",
    "version": 3
   },
   "file_extension": ".py",
   "mimetype": "text/x-python",
   "name": "python",
   "nbconvert_exporter": "python",
   "pygments_lexer": "ipython3",
   "version": "3.11.7"
  }
 },
 "nbformat": 4,
 "nbformat_minor": 5
}
