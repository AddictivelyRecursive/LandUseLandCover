{
 "cells": [
  {
   "cell_type": "code",
   "execution_count": null,
   "id": "1805666c-8d73-408a-a2be-75f4881416b8",
   "metadata": {},
   "outputs": [
    {
     "name": "stdout",
     "output_type": "stream",
     "text": [
      "Classifying via RF Model\n"
     ]
    },
    {
     "name": "stderr",
     "output_type": "stream",
     "text": [
      "C:\\Users\\HP\\anaconda3\\Lib\\site-packages\\sklearn\\base.py:439: UserWarning: X does not have valid feature names, but RandomForestClassifier was fitted with feature names\n",
      "  warnings.warn(\n"
     ]
    },
    {
     "name": "stdout",
     "output_type": "stream",
     "text": [
      "Classified Image RF saved\n",
      "Classifying via SVM Model\n"
     ]
    },
    {
     "name": "stderr",
     "output_type": "stream",
     "text": [
      "C:\\Users\\HP\\anaconda3\\Lib\\site-packages\\sklearn\\base.py:439: UserWarning: X does not have valid feature names, but SVC was fitted with feature names\n",
      "  warnings.warn(\n"
     ]
    },
    {
     "name": "stdout",
     "output_type": "stream",
     "text": [
      "Classified Image SVM saved\n",
      "Classifying via XGB Model\n"
     ]
    }
   ],
   "source": [
    "from joblib import load\n",
    "import tensorflow as tf\n",
    "import rasterio\n",
    "random_forest_model = load('random_forest_model.pkl')\n",
    "svm_model = load('svm_model.pkl')\n",
    "xgb_model = load('xgb_model.pkl')\n",
    "nn_model = tf.keras.models.load_model('nn_model.keras')\n",
    "\n",
    "import numpy as np\n",
    "import rasterio\n",
    "from rasterio import windows\n",
    "from skimage.util import view_as_windows\n",
    "from joblib import Parallel, delayed\n",
    "\n",
    "%run crop_classify.ipynb\n",
    "image_path = 'sample_input.tif'  # Adjust the file path if necessary\n",
    "mask_path = 'water_mask.tif'  # Adjust the file path if necessary\n",
    "\n",
    "#RF\n",
    "try:\n",
    "    print(\"Classifying via RF Model\")\n",
    "    classified_image_rf, src = classify_image(image_path, mask_path, random_forest_model)\n",
    "except Exception as e:\n",
    "    print(f'Error in execution: {e}')\n",
    "else:\n",
    "    # Save the classified image\n",
    "    with rasterio.open(\n",
    "            'sample_output_classified_image_RF.tif',\n",
    "            'w',\n",
    "            driver='GTiff',\n",
    "            height=classified_image_rf.shape[0],\n",
    "            width=classified_image_rf.shape[1],\n",
    "            count=1,\n",
    "            dtype=classified_image_rf.dtype,\n",
    "            crs=src.crs,\n",
    "            transform=src.transform,\n",
    "        ) as dst:\n",
    "            dst.write(classified_image_rf, 1)\n",
    "print(\"Classified Image RF saved\")\n",
    "\n",
    "#SVM\n",
    "try:\n",
    "    print(\"Classifying via SVM Model\")\n",
    "    classified_image_svm, src = classify_image(image_path, mask_path, svm_model)\n",
    "except Exception as e:\n",
    "    print(f'Error in execution: {e}')\n",
    "else:\n",
    "    # Save the classified image\n",
    "    with rasterio.open(\n",
    "            'sample_output_classified_image_SVM.tif',\n",
    "            'w',\n",
    "            driver='GTiff',\n",
    "            height=classified_image_svm.shape[0],\n",
    "            width=classified_image_svm.shape[1],\n",
    "            count=1,\n",
    "            dtype=classified_image_svm.dtype,\n",
    "            crs=src.crs,\n",
    "            transform=src.transform,\n",
    "        ) as dst:\n",
    "            dst.write(classified_image_svm, 1)\n",
    "print(\"Classified Image SVM saved\")\n",
    "\n",
    "#XGB\n",
    "try:\n",
    "    print(\"Classifying via XGB Model\")\n",
    "    classified_image_xgb, src = classify_image(image_path, mask_path, xgb_model)\n",
    "except Exception as e:\n",
    "    print(f'Error in execution: {e}')\n",
    "else:\n",
    "    # Save the classified image\n",
    "    with rasterio.open(\n",
    "            'sample_output_classified_image_XGB.tif',\n",
    "            'w',\n",
    "            driver='GTiff',\n",
    "            height=classified_image_xgb.shape[0],\n",
    "            width=classified_image_xgb.shape[1],\n",
    "            count=1,\n",
    "            dtype=classified_image_xgb.dtype,\n",
    "            crs=src.crs,\n",
    "            transform=src.transform,\n",
    "        ) as dst:\n",
    "            dst.write(classified_image_xgb, 1)\n",
    "print(\"Classified Image XGB saved\")\n",
    "\n",
    "#NN\n",
    "try:\n",
    "    \n",
    "    classified_image_nn, src = classify_image(image_path, mask_path, nn_model)\n",
    "except Exception as e:\n",
    "    print(f'Error in execution: {e}')\n",
    "else:\n",
    "    # Save the classified image\n",
    "    with rasterio.open(\n",
    "            'sample_output_classified_image_NN.tif',\n",
    "            'w',\n",
    "            driver='GTiff',\n",
    "            height=classified_image_nn.shape[0],\n",
    "            width=classified_image_nn.shape[1],\n",
    "            count=1,\n",
    "            dtype=classified_image_nn.dtype,\n",
    "            crs=src.crs,\n",
    "            transform=src.transform,\n",
    "        ) as dst:\n",
    "            dst.write(classified_image_nn, 1)\n",
    "\n",
    "print(\"Classified images saved successfully.\")"
   ]
  },
  {
   "cell_type": "code",
   "execution_count": null,
   "id": "ddda9470-e9d3-4f48-a21c-8eafae359503",
   "metadata": {},
   "outputs": [],
   "source": [
    "def display_image(image_path, title):\n",
    "    \"\"\"Display a raster image.\"\"\"\n",
    "    with rasterio.open(image_path) as src:\n",
    "        image = src.read(1)  # Assuming single-band TIF\n",
    "    plt.figure(figsize=(10, 10))\n",
    "    plt.imshow(image, cmap='viridis')\n",
    "    plt.title(title)\n",
    "    plt.colorbar()\n",
    "    plt.show()"
   ]
  },
  {
   "cell_type": "code",
   "execution_count": null,
   "id": "98b7da09-3d16-46a2-b789-e4d6a3728be7",
   "metadata": {},
   "outputs": [],
   "source": [
    "display_image(image_path, \"Sample Input Image- Cartosat\")\n",
    "\n",
    "CLASSIFIED_OUTPUT_RF = \"sample_output_classified_image_RF.tif\"\n",
    "CLASSIFIED_OUTPUT_SVM = \"sample_output_classified_image_SVM.tif\"\n",
    "CLASSIFIED_OUTPUT_XGB = \"sample_output_classified_image_XGB.tif\"\n",
    "CLASSIFIED_OUTPUT_NN = \"sample_output_classified_image_NN.tif\"\n",
    "\n",
    "display_image(CLASSIFIED_OUTPUT_RF, \"Classified Image - Random Forest\")\n",
    "display_image(CLASSIFIED_OUTPUT_SVM, \"Classified Image - SVM\")\n",
    "display_image(CLASSIFIED_OUTPUT_XGB, \"Classified Image - XGBoost\")\n",
    "display_image(CLASSIFIED_OUTPUT_NN, \"Classified Image - Neural Network\")"
   ]
  }
 ],
 "metadata": {
  "kernelspec": {
   "display_name": "Python 3 (ipykernel)",
   "language": "python",
   "name": "python3"
  },
  "language_info": {
   "codemirror_mode": {
    "name": "ipython",
    "version": 3
   },
   "file_extension": ".py",
   "mimetype": "text/x-python",
   "name": "python",
   "nbconvert_exporter": "python",
   "pygments_lexer": "ipython3",
   "version": "3.11.7"
  }
 },
 "nbformat": 4,
 "nbformat_minor": 5
}
